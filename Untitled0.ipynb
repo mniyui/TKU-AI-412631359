{
  "nbformat": 4,
  "nbformat_minor": 0,
  "metadata": {
    "colab": {
      "provenance": [],
      "authorship_tag": "ABX9TyNaCBJR9CXE9shgGsjEi80N",
      "include_colab_link": true
    },
    "kernelspec": {
      "name": "python3",
      "display_name": "Python 3"
    },
    "language_info": {
      "name": "python"
    }
  },
  "cells": [
    {
      "cell_type": "markdown",
      "metadata": {
        "id": "view-in-github",
        "colab_type": "text"
      },
      "source": [
        "<a href=\"https://colab.research.google.com/github/mniyui/TKU-AI-412631359/blob/main/Untitled0.ipynb\" target=\"_parent\"><img src=\"https://colab.research.google.com/assets/colab-badge.svg\" alt=\"Open In Colab\"/></a>"
      ]
    },
    {
      "cell_type": "code",
      "execution_count": 1,
      "metadata": {
        "colab": {
          "base_uri": "https://localhost:8080/"
        },
        "id": "D6597eqT2mHZ",
        "outputId": "2a39d804-1d1d-4edd-8bb5-2da2e760ccd8"
      },
      "outputs": [
        {
          "output_type": "stream",
          "name": "stdout",
          "text": [
            "Hello World\n"
          ]
        }
      ],
      "source": [
        "print(\"Hello World\")"
      ]
    },
    {
      "cell_type": "code",
      "source": [
        "print(\"HI\")"
      ],
      "metadata": {
        "colab": {
          "base_uri": "https://localhost:8080/"
        },
        "id": "LhzXCk_g21uN",
        "outputId": "81e56e53-f48a-4be9-eccf-290c04c26978"
      },
      "execution_count": 2,
      "outputs": [
        {
          "output_type": "stream",
          "name": "stdout",
          "text": [
            "HI\n"
          ]
        }
      ]
    },
    {
      "cell_type": "code",
      "source": [
        "print(\"Welcome to TKU\")"
      ],
      "metadata": {
        "colab": {
          "base_uri": "https://localhost:8080/"
        },
        "id": "YpLAJE8L28RU",
        "outputId": "70a36d00-8847-47c6-d952-602f8e04d065"
      },
      "execution_count": 3,
      "outputs": [
        {
          "output_type": "stream",
          "name": "stdout",
          "text": [
            "Welcome to TKU\n"
          ]
        }
      ]
    },
    {
      "cell_type": "markdown",
      "source": [
        "HI"
      ],
      "metadata": {
        "id": "G_pmsQjl3ekE"
      }
    },
    {
      "cell_type": "code",
      "source": [],
      "metadata": {
        "id": "3mZFM6Mv3hE7"
      },
      "execution_count": null,
      "outputs": []
    }
  ]
}